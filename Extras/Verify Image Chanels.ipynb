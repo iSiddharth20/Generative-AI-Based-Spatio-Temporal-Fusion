{
 "cells": [
  {
   "cell_type": "code",
   "execution_count": 4,
   "id": "7ecfff03-a751-4547-9e9d-77b2d60a8377",
   "metadata": {},
   "outputs": [],
   "source": [
    "import os\n",
    "from PIL import Image \n",
    "import pandas as pd\n",
    "\n",
    "def get_tiff_details(dir_path):\n",
    "    # Initialize empty lists \n",
    "    filenames = []\n",
    "    resolutions = []\n",
    "    channels = []\n",
    "    \n",
    "    # Loop through files\n",
    "    for filename in os.listdir(dir_path):\n",
    "        if filename.lower().endswith('.tif'):\n",
    "            \n",
    "            img_path = os.path.join(dir_path, filename)\n",
    "            img = Image.open(img_path)\n",
    "            \n",
    "            width, height = img.size\n",
    "            num_channels = len(img.getbands())\n",
    "            \n",
    "            filenames.append(filename)\n",
    "            resolutions.append(f'{width} x {height}')\n",
    "            channels.append(num_channels)\n",
    "            \n",
    "    # Create dataframe\n",
    "    df = pd.DataFrame({\n",
    "        'Filename': filenames,\n",
    "        'Resolution': resolutions,\n",
    "        'Channels': channels\n",
    "    })\n",
    "    \n",
    "    return df\n",
    "\n",
    "def process_tiffs(dir_path, convert_to_one_channel=False):\n",
    "    \n",
    "    filenames = []\n",
    "    resolutions = []\n",
    "    channels = []\n",
    "    \n",
    "    for filename in os.listdir(dir_path):\n",
    "        if filename.lower().endswith('.tif'):\n",
    "\n",
    "            img_path = os.path.join(dir_path, filename)\n",
    "            img = Image.open(img_path)\n",
    "            \n",
    "            width, height = img.size\n",
    "            \n",
    "            filenames.append(filename)\n",
    "            resolutions.append(f'{width} x {height}')\n",
    "            channels.append(len(img.getbands()))\n",
    "            \n",
    "            if convert_to_one_channel:\n",
    "                gray_img = img.convert('L')\n",
    "                gray_img.save(img_path)\n",
    "                channels[-1] = 1\n",
    "                \n",
    "    df = pd.DataFrame({\n",
    "        'Filename': filenames,\n",
    "        'Resolution': resolutions, \n",
    "        'Channels': channels\n",
    "    })\n",
    "    \n",
    "    return df"
   ]
  },
  {
   "cell_type": "code",
   "execution_count": 6,
   "id": "26e2aa36-c59e-4316-9205-d774c10d4039",
   "metadata": {},
   "outputs": [
    {
     "name": "stdout",
     "output_type": "stream",
     "text": [
      "              Filename   Resolution  Channels\n",
      "0    Greyscale (1).tif  4000 x 6000         1\n",
      "1   Greyscale (10).tif  4000 x 6000         1\n",
      "2   Greyscale (11).tif  4000 x 6000         1\n",
      "3   Greyscale (12).tif  4000 x 6000         1\n",
      "4   Greyscale (13).tif  4000 x 6000         1\n",
      "5   Greyscale (14).tif  4000 x 6000         1\n",
      "6   Greyscale (15).tif  4000 x 6000         1\n",
      "7   Greyscale (16).tif  4000 x 6000         1\n",
      "8    Greyscale (2).tif  4000 x 6000         1\n",
      "9    Greyscale (3).tif  4000 x 6000         1\n",
      "10   Greyscale (4).tif  4000 x 6000         1\n",
      "11   Greyscale (5).tif  4000 x 6000         1\n",
      "12   Greyscale (6).tif  4000 x 6000         1\n",
      "13   Greyscale (7).tif  4000 x 6000         1\n",
      "14   Greyscale (8).tif  4000 x 6000         1\n",
      "15   Greyscale (9).tif  4000 x 6000         1\n"
     ]
    }
   ],
   "source": [
    "# Example usage  \n",
    "tiff_dir = 'Dataset/Greyscale/'\n",
    "df = get_tiff_details(tiff_dir)\n",
    "print(df)"
   ]
  },
  {
   "cell_type": "code",
   "execution_count": 5,
   "id": "25e87687-c881-4687-8bf6-c987be2e3b08",
   "metadata": {},
   "outputs": [
    {
     "name": "stdout",
     "output_type": "stream",
     "text": [
      "              Filename   Resolution  Channels\n",
      "0    Greyscale (1).tif  4000 x 6000         1\n",
      "1   Greyscale (10).tif  4000 x 6000         1\n",
      "2   Greyscale (11).tif  4000 x 6000         1\n",
      "3   Greyscale (12).tif  4000 x 6000         1\n",
      "4   Greyscale (13).tif  4000 x 6000         1\n",
      "5   Greyscale (14).tif  4000 x 6000         1\n",
      "6   Greyscale (15).tif  4000 x 6000         1\n",
      "7   Greyscale (16).tif  4000 x 6000         1\n",
      "8    Greyscale (2).tif  4000 x 6000         1\n",
      "9    Greyscale (3).tif  4000 x 6000         1\n",
      "10   Greyscale (4).tif  4000 x 6000         1\n",
      "11   Greyscale (5).tif  4000 x 6000         1\n",
      "12   Greyscale (6).tif  4000 x 6000         1\n",
      "13   Greyscale (7).tif  4000 x 6000         1\n",
      "14   Greyscale (8).tif  4000 x 6000         1\n",
      "15   Greyscale (9).tif  4000 x 6000         1\n"
     ]
    }
   ],
   "source": [
    "# Example usage\n",
    "tiff_dir = 'Dataset/Greyscale/'  \n",
    "df = process_tiffs(tiff_dir, convert_to_one_channel=True)\n",
    "print(df)"
   ]
  },
  {
   "cell_type": "code",
   "execution_count": null,
   "id": "5180cdca-4df3-4294-81c5-769e0e0fbeff",
   "metadata": {},
   "outputs": [],
   "source": []
  }
 ],
 "metadata": {
  "kernelspec": {
   "display_name": "Python 3 (ipykernel)",
   "language": "python",
   "name": "python3"
  },
  "language_info": {
   "codemirror_mode": {
    "name": "ipython",
    "version": 3
   },
   "file_extension": ".py",
   "mimetype": "text/x-python",
   "name": "python",
   "nbconvert_exporter": "python",
   "pygments_lexer": "ipython3",
   "version": "3.11.5"
  }
 },
 "nbformat": 4,
 "nbformat_minor": 5
}
