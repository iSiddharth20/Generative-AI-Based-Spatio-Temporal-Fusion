{
 "cells": [
  {
   "cell_type": "code",
   "execution_count": null,
   "id": "fce68d26-26b1-4c30-a038-1f8db03965ae",
   "metadata": {},
   "outputs": [],
   "source": [
    "# Import Necessary Libraries\n",
    "import os\n",
    "import sys\n",
    "\n",
    "# Import Necessary Scripts\n",
    "DIR_CURR = os.getcwd()\n",
    "DIR_THIS = \"D:/__DevSection__/__PYTHONSCRIPTS__\"\n",
    "os.chdir(DIR_THIS)\n",
    "sys.path.append(DIR_THIS)\n",
    "\n",
    "from OpenAI import OpenAIBot # OpenAI ChatBot\n",
    "from PDFToRawString import pdf_to_raw_string # Extracts Contents from PDF File to a Raw String\n",
    "from PyScriptToRawString import py_to_raw_string # Extracts Contents from Python Script to a Raw String\n",
    "\n",
    "os.chdir(DIR_CURR)"
   ]
  },
  {
   "cell_type": "code",
   "execution_count": null,
   "id": "37467588-c28e-4573-9796-92523a63621f",
   "metadata": {},
   "outputs": [],
   "source": [
    "# PDF_Name = pdf_to_raw_string('PDF_Name.pdf')\n",
    "# PY_Script = py_to_raw_string(''PY_Script.py'')"
   ]
  },
  {
   "cell_type": "code",
   "execution_count": null,
   "id": "037be127-a2de-4276-bc68-5c183e5f5996",
   "metadata": {},
   "outputs": [],
   "source": [
    "engine = \"gpt-4-1106-preview\""
   ]
  },
  {
   "cell_type": "code",
   "execution_count": null,
   "id": "debd9704-f1e5-40ea-9dfe-358a6d12cb41",
   "metadata": {},
   "outputs": [],
   "source": [
    "chatbot = OpenAIBot(engine)"
   ]
  },
  {
   "cell_type": "code",
   "execution_count": null,
   "id": "f0499e9f-a2e8-4258-9deb-69f99b37501e",
   "metadata": {},
   "outputs": [],
   "source": [
    "prompt = r\"\"\"\n",
    "\n",
    "\"\"\" \n",
    "\n",
    "response = chatbot.generate_response(prompt)\n",
    "print(response)"
   ]
  },
  {
   "cell_type": "code",
   "execution_count": null,
   "id": "67884d1e-95ce-42e8-9e56-3bf5e9ba0b4e",
   "metadata": {},
   "outputs": [],
   "source": []
  }
 ],
 "metadata": {
  "kernelspec": {
   "display_name": "Python 3 (ipykernel)",
   "language": "python",
   "name": "python3"
  },
  "language_info": {
   "codemirror_mode": {
    "name": "ipython",
    "version": 3
   },
   "file_extension": ".py",
   "mimetype": "text/x-python",
   "name": "python",
   "nbconvert_exporter": "python",
   "pygments_lexer": "ipython3",
   "version": "3.11.5"
  }
 },
 "nbformat": 4,
 "nbformat_minor": 5
}
